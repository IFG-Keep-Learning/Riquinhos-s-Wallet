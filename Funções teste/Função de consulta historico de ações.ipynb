{
 "cells": [
  {
   "cell_type": "markdown",
   "metadata": {},
   "source": [
    "# Construindo uma função\n",
    "## Objetivo: criar uma consulta rapida para uma lista de ações "
   ]
  },
  {
   "cell_type": "markdown",
   "metadata": {},
   "source": [
    "### Imports"
   ]
  },
  {
   "cell_type": "code",
   "execution_count": 28,
   "metadata": {},
   "outputs": [],
   "source": [
    "from pandas_datareader import data as wb\n",
    "from datetime import date"
   ]
  },
  {
   "cell_type": "markdown",
   "metadata": {},
   "source": [
    "### Construindo função"
   ]
  },
  {
   "cell_type": "code",
   "execution_count": 29,
   "metadata": {},
   "outputs": [],
   "source": [
    "meuvetor = [\"BIDI11.SA\",\"WEGE3.SA\",\"ITSA4.SA\"] # Lista exemplo de consulta"
   ]
  },
  {
   "cell_type": "code",
   "execution_count": 30,
   "metadata": {},
   "outputs": [],
   "source": [
    "hoje = str(date.today())               # Criando uma variavel que representa o dia de hoje \n",
    "dataDeInicio = str(date(2020,7,20))    # Criando uma variavel para o dia em que quero começar a analisar"
   ]
  },
  {
   "cell_type": "code",
   "execution_count": 31,
   "metadata": {},
   "outputs": [],
   "source": [
    "def consultaListaDeAcoes(minhasAcoes,dataIncio,dataFim): # Nome da ação e o parametro que ela recebe\n",
    "    carteira = {}                      # Dicionario vazio para receber dados\n",
    "    for acao in minhasAcoes:           #For que intera sobre as ações escolidas\n",
    "        pegaAcao= wb.DataReader(acao, data_source='yahoo', start=dataIncio, end=dataFim)  # Comando para consultar ação\n",
    "        carteira.update({ acao : pegaAcao} )         # Adicionando a ação ao dicionario\n",
    "    return carteira                    # Retorna o dicionario contendo atributos como nome da ação\n",
    "    "
   ]
  },
  {
   "cell_type": "code",
   "execution_count": 32,
   "metadata": {
    "scrolled": true
   },
   "outputs": [],
   "source": [
    "dictCarteira = consultaListaDeAcoes(meuvetor,dataDeInicio,hoje) # Realizo a funçãoo e jogo para dentro de uma variavel"
   ]
  },
  {
   "cell_type": "code",
   "execution_count": 35,
   "metadata": {},
   "outputs": [
    {
     "data": {
      "text/html": [
       "<div>\n",
       "<style scoped>\n",
       "    .dataframe tbody tr th:only-of-type {\n",
       "        vertical-align: middle;\n",
       "    }\n",
       "\n",
       "    .dataframe tbody tr th {\n",
       "        vertical-align: top;\n",
       "    }\n",
       "\n",
       "    .dataframe thead th {\n",
       "        text-align: right;\n",
       "    }\n",
       "</style>\n",
       "<table border=\"1\" class=\"dataframe\">\n",
       "  <thead>\n",
       "    <tr style=\"text-align: right;\">\n",
       "      <th></th>\n",
       "      <th>High</th>\n",
       "      <th>Low</th>\n",
       "      <th>Open</th>\n",
       "      <th>Close</th>\n",
       "      <th>Volume</th>\n",
       "      <th>Adj Close</th>\n",
       "    </tr>\n",
       "    <tr>\n",
       "      <th>Date</th>\n",
       "      <th></th>\n",
       "      <th></th>\n",
       "      <th></th>\n",
       "      <th></th>\n",
       "      <th></th>\n",
       "      <th></th>\n",
       "    </tr>\n",
       "  </thead>\n",
       "  <tbody>\n",
       "    <tr>\n",
       "      <th>2020-07-20</th>\n",
       "      <td>10.48</td>\n",
       "      <td>10.22</td>\n",
       "      <td>10.30</td>\n",
       "      <td>10.42</td>\n",
       "      <td>28905900</td>\n",
       "      <td>10.42</td>\n",
       "    </tr>\n",
       "    <tr>\n",
       "      <th>2020-07-21</th>\n",
       "      <td>10.63</td>\n",
       "      <td>10.47</td>\n",
       "      <td>10.50</td>\n",
       "      <td>10.52</td>\n",
       "      <td>26798100</td>\n",
       "      <td>10.52</td>\n",
       "    </tr>\n",
       "    <tr>\n",
       "      <th>2020-07-22</th>\n",
       "      <td>10.74</td>\n",
       "      <td>10.42</td>\n",
       "      <td>10.57</td>\n",
       "      <td>10.52</td>\n",
       "      <td>67799300</td>\n",
       "      <td>10.52</td>\n",
       "    </tr>\n",
       "    <tr>\n",
       "      <th>2020-07-23</th>\n",
       "      <td>10.58</td>\n",
       "      <td>10.35</td>\n",
       "      <td>10.53</td>\n",
       "      <td>10.37</td>\n",
       "      <td>29955600</td>\n",
       "      <td>10.37</td>\n",
       "    </tr>\n",
       "    <tr>\n",
       "      <th>2020-07-24</th>\n",
       "      <td>10.61</td>\n",
       "      <td>10.22</td>\n",
       "      <td>10.33</td>\n",
       "      <td>10.45</td>\n",
       "      <td>39382900</td>\n",
       "      <td>10.45</td>\n",
       "    </tr>\n",
       "  </tbody>\n",
       "</table>\n",
       "</div>"
      ],
      "text/plain": [
       "             High    Low   Open  Close    Volume  Adj Close\n",
       "Date                                                       \n",
       "2020-07-20  10.48  10.22  10.30  10.42  28905900      10.42\n",
       "2020-07-21  10.63  10.47  10.50  10.52  26798100      10.52\n",
       "2020-07-22  10.74  10.42  10.57  10.52  67799300      10.52\n",
       "2020-07-23  10.58  10.35  10.53  10.37  29955600      10.37\n",
       "2020-07-24  10.61  10.22  10.33  10.45  39382900      10.45"
      ]
     },
     "execution_count": 35,
     "metadata": {},
     "output_type": "execute_result"
    }
   ],
   "source": [
    "dictCarteira['ITSA4.SA'].head(10) # consulto a ação que me importa"
   ]
  }
 ],
 "metadata": {
  "kernelspec": {
   "display_name": "Python 3",
   "language": "python",
   "name": "python3"
  },
  "language_info": {
   "codemirror_mode": {
    "name": "ipython",
    "version": 3
   },
   "file_extension": ".py",
   "mimetype": "text/x-python",
   "name": "python",
   "nbconvert_exporter": "python",
   "pygments_lexer": "ipython3",
   "version": "3.8.2"
  }
 },
 "nbformat": 4,
 "nbformat_minor": 4
}
