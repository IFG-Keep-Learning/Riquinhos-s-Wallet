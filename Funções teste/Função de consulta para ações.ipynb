{
 "cells": [
  {
   "cell_type": "markdown",
   "metadata": {},
   "source": [
    "# Construindo uma função\n",
    "## Objetivo: criar uma consulta rapida para uma lista de ações "
   ]
  },
  {
   "cell_type": "markdown",
   "metadata": {},
   "source": [
    "### Imports"
   ]
  },
  {
   "cell_type": "code",
   "execution_count": 17,
   "metadata": {},
   "outputs": [],
   "source": [
    "from pandas_datareader import data as wb\n",
    "from datetime import date"
   ]
  },
  {
   "cell_type": "markdown",
   "metadata": {},
   "source": [
    "### Construindo função"
   ]
  },
  {
   "cell_type": "code",
   "execution_count": 39,
   "metadata": {},
   "outputs": [],
   "source": [
    "meuvetor = [\"BIDI11.SA\",\"WEGE3.SA\",\"ITSA4.SA\"] # Lista exemplo de consulta\n",
    "diaDeInicio = str(date(2020,7,29))\n",
    "hoje = str(date.today())"
   ]
  },
  {
   "cell_type": "code",
   "execution_count": 35,
   "metadata": {},
   "outputs": [],
   "source": [
    "def consultaListaDeAcoes(minhasAcoes,inicio,fim): # Nome da ação e o parametro que ela recebe\n",
    "    carteira = {}                      # Dicionario vazio para receber dados\n",
    "    for acao in minhasAcoes:           #For que intera sobre as ações escolidas\n",
    "        pegaAcao= wb.DataReader(acao, data_source='yahoo', start=inicio, end=fim)  # Comando para consultar ação\n",
    "        carteira.update({ acao : pegaAcao} )         # Adicionando a ação ao dicionario\n",
    "    return carteira                    # Retorna o dicionario contendo atributos como nome da ação\n",
    "    "
   ]
  },
  {
   "cell_type": "code",
   "execution_count": 40,
   "metadata": {
    "scrolled": true
   },
   "outputs": [],
   "source": [
    "dictCarteira = consultaListaDeAcoes(meuvetor,diaDeInicio,hoje) # Realizo a funçãoo e jogo para dentro de uma variavel"
   ]
  },
  {
   "cell_type": "code",
   "execution_count": 42,
   "metadata": {
    "scrolled": true
   },
   "outputs": [
    {
     "data": {
      "text/html": [
       "<div>\n",
       "<style scoped>\n",
       "    .dataframe tbody tr th:only-of-type {\n",
       "        vertical-align: middle;\n",
       "    }\n",
       "\n",
       "    .dataframe tbody tr th {\n",
       "        vertical-align: top;\n",
       "    }\n",
       "\n",
       "    .dataframe thead th {\n",
       "        text-align: right;\n",
       "    }\n",
       "</style>\n",
       "<table border=\"1\" class=\"dataframe\">\n",
       "  <thead>\n",
       "    <tr style=\"text-align: right;\">\n",
       "      <th></th>\n",
       "      <th>High</th>\n",
       "      <th>Low</th>\n",
       "      <th>Open</th>\n",
       "      <th>Close</th>\n",
       "      <th>Volume</th>\n",
       "      <th>Adj Close</th>\n",
       "    </tr>\n",
       "    <tr>\n",
       "      <th>Date</th>\n",
       "      <th></th>\n",
       "      <th></th>\n",
       "      <th></th>\n",
       "      <th></th>\n",
       "      <th></th>\n",
       "      <th></th>\n",
       "    </tr>\n",
       "  </thead>\n",
       "  <tbody>\n",
       "    <tr>\n",
       "      <th>2020-07-29</th>\n",
       "      <td>68.050003</td>\n",
       "      <td>66.000000</td>\n",
       "      <td>67.760002</td>\n",
       "      <td>66.980003</td>\n",
       "      <td>6347700</td>\n",
       "      <td>66.980003</td>\n",
       "    </tr>\n",
       "    <tr>\n",
       "      <th>2020-07-30</th>\n",
       "      <td>68.000000</td>\n",
       "      <td>64.599998</td>\n",
       "      <td>66.129997</td>\n",
       "      <td>68.000000</td>\n",
       "      <td>4323000</td>\n",
       "      <td>68.000000</td>\n",
       "    </tr>\n",
       "    <tr>\n",
       "      <th>2020-07-31</th>\n",
       "      <td>68.599998</td>\n",
       "      <td>67.000000</td>\n",
       "      <td>68.389999</td>\n",
       "      <td>67.349998</td>\n",
       "      <td>4266300</td>\n",
       "      <td>67.349998</td>\n",
       "    </tr>\n",
       "  </tbody>\n",
       "</table>\n",
       "</div>"
      ],
      "text/plain": [
       "                 High        Low       Open      Close   Volume  Adj Close\n",
       "Date                                                                      \n",
       "2020-07-29  68.050003  66.000000  67.760002  66.980003  6347700  66.980003\n",
       "2020-07-30  68.000000  64.599998  66.129997  68.000000  4323000  68.000000\n",
       "2020-07-31  68.599998  67.000000  68.389999  67.349998  4266300  67.349998"
      ]
     },
     "execution_count": 42,
     "metadata": {},
     "output_type": "execute_result"
    }
   ],
   "source": [
    "dictCarteira['WEGE3.SA'].head() # consulto a ação que me importa"
   ]
  }
 ],
 "metadata": {
  "kernelspec": {
   "display_name": "Python 3",
   "language": "python",
   "name": "python3"
  },
  "language_info": {
   "codemirror_mode": {
    "name": "ipython",
    "version": 3
   },
   "file_extension": ".py",
   "mimetype": "text/x-python",
   "name": "python",
   "nbconvert_exporter": "python",
   "pygments_lexer": "ipython3",
   "version": "3.8.2"
  }
 },
 "nbformat": 4,
 "nbformat_minor": 4
}
