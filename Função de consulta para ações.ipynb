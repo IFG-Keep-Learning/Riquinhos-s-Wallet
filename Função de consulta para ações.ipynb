{
 "cells": [
  {
   "cell_type": "markdown",
   "metadata": {},
   "source": [
    "# Construindo uma função\n",
    "## Objetivo: criar uma consulta rapida para uma lista de ações "
   ]
  },
  {
   "cell_type": "markdown",
   "metadata": {},
   "source": [
    "### Imports"
   ]
  },
  {
   "cell_type": "code",
   "execution_count": 103,
   "metadata": {},
   "outputs": [],
   "source": [
    "from pandas_datareader import data as wb\n",
    "import datetime "
   ]
  },
  {
   "cell_type": "markdown",
   "metadata": {},
   "source": [
    "### Construindo função"
   ]
  },
  {
   "cell_type": "code",
   "execution_count": 104,
   "metadata": {},
   "outputs": [],
   "source": [
    "meuvetor = [\"BIDI11.SA\",\"WEGE3.SA\",\"ITSA4.SA\"] # Lista exemplo de consulta"
   ]
  },
  {
   "cell_type": "code",
   "execution_count": 108,
   "metadata": {},
   "outputs": [],
   "source": [
    "def consultaListaDeAcoes(minhasAcoes): # Nome da ação e o parametro que ela recebe\n",
    "    carteira = {}                      # Dicionario vazio para receber dados\n",
    "    for acao in minhasAcoes:           #For que intera sobre as ações escolidas\n",
    "        pegaAcao= wb.DataReader(acao, data_source='yahoo', start='2020-5-1')  # Comando para consultar ação\n",
    "        carteira.update({ acao : pegaAcao} )         # Adicionando a ação ao dicionario\n",
    "    return carteira                    # Retorna o dicionario contendo atributos como nome da ação\n",
    "    "
   ]
  },
  {
   "cell_type": "code",
   "execution_count": 109,
   "metadata": {
    "scrolled": true
   },
   "outputs": [
    {
     "name": "stdout",
     "output_type": "stream",
     "text": [
      "[*********************100%***********************]  1 of 1 completed\n",
      "[*********************100%***********************]  1 of 1 completed\n",
      "[*********************100%***********************]  1 of 1 completed\n"
     ]
    }
   ],
   "source": [
    "dictCarteira = consultaListaDeAcoes(meuvetor) # Realizo a funçãoo e jogo para dentro de uma variavel"
   ]
  },
  {
   "cell_type": "code",
   "execution_count": 102,
   "metadata": {},
   "outputs": [
    {
     "data": {
      "text/html": [
       "<div>\n",
       "<style scoped>\n",
       "    .dataframe tbody tr th:only-of-type {\n",
       "        vertical-align: middle;\n",
       "    }\n",
       "\n",
       "    .dataframe tbody tr th {\n",
       "        vertical-align: top;\n",
       "    }\n",
       "\n",
       "    .dataframe thead th {\n",
       "        text-align: right;\n",
       "    }\n",
       "</style>\n",
       "<table border=\"1\" class=\"dataframe\">\n",
       "  <thead>\n",
       "    <tr style=\"text-align: right;\">\n",
       "      <th></th>\n",
       "      <th>Open</th>\n",
       "      <th>High</th>\n",
       "      <th>Low</th>\n",
       "      <th>Close</th>\n",
       "      <th>Adj Close</th>\n",
       "      <th>Volume</th>\n",
       "    </tr>\n",
       "    <tr>\n",
       "      <th>Date</th>\n",
       "      <th></th>\n",
       "      <th></th>\n",
       "      <th></th>\n",
       "      <th></th>\n",
       "      <th></th>\n",
       "      <th></th>\n",
       "    </tr>\n",
       "  </thead>\n",
       "  <tbody>\n",
       "    <tr>\n",
       "      <th>2020-05-04</th>\n",
       "      <td>26.879999</td>\n",
       "      <td>27.389999</td>\n",
       "      <td>26.480000</td>\n",
       "      <td>27.190001</td>\n",
       "      <td>27.190001</td>\n",
       "      <td>1135200</td>\n",
       "    </tr>\n",
       "    <tr>\n",
       "      <th>2020-05-05</th>\n",
       "      <td>27.670000</td>\n",
       "      <td>28.440001</td>\n",
       "      <td>27.240000</td>\n",
       "      <td>27.590000</td>\n",
       "      <td>27.590000</td>\n",
       "      <td>624500</td>\n",
       "    </tr>\n",
       "    <tr>\n",
       "      <th>2020-05-06</th>\n",
       "      <td>27.520000</td>\n",
       "      <td>28.000000</td>\n",
       "      <td>26.980000</td>\n",
       "      <td>27.299999</td>\n",
       "      <td>27.299999</td>\n",
       "      <td>675900</td>\n",
       "    </tr>\n",
       "    <tr>\n",
       "      <th>2020-05-07</th>\n",
       "      <td>27.719999</td>\n",
       "      <td>27.990000</td>\n",
       "      <td>25.700001</td>\n",
       "      <td>26.219999</td>\n",
       "      <td>26.219999</td>\n",
       "      <td>576700</td>\n",
       "    </tr>\n",
       "    <tr>\n",
       "      <th>2020-05-08</th>\n",
       "      <td>26.020000</td>\n",
       "      <td>26.680000</td>\n",
       "      <td>25.690001</td>\n",
       "      <td>25.770000</td>\n",
       "      <td>25.770000</td>\n",
       "      <td>1038000</td>\n",
       "    </tr>\n",
       "    <tr>\n",
       "      <th>2020-05-11</th>\n",
       "      <td>25.510000</td>\n",
       "      <td>26.740000</td>\n",
       "      <td>25.510000</td>\n",
       "      <td>25.790001</td>\n",
       "      <td>25.790001</td>\n",
       "      <td>544300</td>\n",
       "    </tr>\n",
       "    <tr>\n",
       "      <th>2020-05-12</th>\n",
       "      <td>25.790001</td>\n",
       "      <td>26.200001</td>\n",
       "      <td>24.469999</td>\n",
       "      <td>25.120001</td>\n",
       "      <td>25.120001</td>\n",
       "      <td>726200</td>\n",
       "    </tr>\n",
       "    <tr>\n",
       "      <th>2020-05-13</th>\n",
       "      <td>25.200001</td>\n",
       "      <td>26.049999</td>\n",
       "      <td>24.930000</td>\n",
       "      <td>25.670000</td>\n",
       "      <td>25.670000</td>\n",
       "      <td>732000</td>\n",
       "    </tr>\n",
       "    <tr>\n",
       "      <th>2020-05-14</th>\n",
       "      <td>25.650000</td>\n",
       "      <td>26.580000</td>\n",
       "      <td>25.080000</td>\n",
       "      <td>26.580000</td>\n",
       "      <td>26.580000</td>\n",
       "      <td>943500</td>\n",
       "    </tr>\n",
       "    <tr>\n",
       "      <th>2020-05-15</th>\n",
       "      <td>26.020000</td>\n",
       "      <td>27.080000</td>\n",
       "      <td>25.730000</td>\n",
       "      <td>26.430000</td>\n",
       "      <td>26.430000</td>\n",
       "      <td>401300</td>\n",
       "    </tr>\n",
       "  </tbody>\n",
       "</table>\n",
       "</div>"
      ],
      "text/plain": [
       "                 Open       High        Low      Close  Adj Close   Volume\n",
       "Date                                                                      \n",
       "2020-05-04  26.879999  27.389999  26.480000  27.190001  27.190001  1135200\n",
       "2020-05-05  27.670000  28.440001  27.240000  27.590000  27.590000   624500\n",
       "2020-05-06  27.520000  28.000000  26.980000  27.299999  27.299999   675900\n",
       "2020-05-07  27.719999  27.990000  25.700001  26.219999  26.219999   576700\n",
       "2020-05-08  26.020000  26.680000  25.690001  25.770000  25.770000  1038000\n",
       "2020-05-11  25.510000  26.740000  25.510000  25.790001  25.790001   544300\n",
       "2020-05-12  25.790001  26.200001  24.469999  25.120001  25.120001   726200\n",
       "2020-05-13  25.200001  26.049999  24.930000  25.670000  25.670000   732000\n",
       "2020-05-14  25.650000  26.580000  25.080000  26.580000  26.580000   943500\n",
       "2020-05-15  26.020000  27.080000  25.730000  26.430000  26.430000   401300"
      ]
     },
     "execution_count": 102,
     "metadata": {},
     "output_type": "execute_result"
    }
   ],
   "source": [
    "dictCarteira['BIDI11.SA'].head(10) # consulto a ação que me importa"
   ]
  }
 ],
 "metadata": {
  "kernelspec": {
   "display_name": "Python 3",
   "language": "python",
   "name": "python3"
  },
  "language_info": {
   "codemirror_mode": {
    "name": "ipython",
    "version": 3
   },
   "file_extension": ".py",
   "mimetype": "text/x-python",
   "name": "python",
   "nbconvert_exporter": "python",
   "pygments_lexer": "ipython3",
   "version": "3.8.2"
  }
 },
 "nbformat": 4,
 "nbformat_minor": 4
}
